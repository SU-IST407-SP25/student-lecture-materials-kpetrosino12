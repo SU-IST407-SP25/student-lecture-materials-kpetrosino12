{
 "cells": [
  {
   "cell_type": "markdown",
   "metadata": {},
   "source": [
    "The following exercises use 2019 flight statistics from the United States Department of Transportation’s Bureau of Transportation Statistics (available [here](https://www.transtats.bts.gov/DL_SelectFields.asp?gnoyr_VQ=FMF&QO_fu146_anzr=Nv4%20Pn44vr45) and in this repository as `data/T100_MARKET_ALL_CARRIER.zip`). Each row contains information about a specific route for a given carrier in a given month (e.g., JFK &rarr; LAX on Delta Airlines in January). There are 321,409 rows and 41 columns. Note that you don't need to unzip the file to read it in with `pd.read_csv()`.\n",
    "\n",
    "This continues last week's exercises."
   ]
  },
  {
   "cell_type": "markdown",
   "metadata": {},
   "source": [
    "#### __Exercise 8__:\n",
    "\n",
    "Find the top 5 carriers for median route distance (i.e., for all origin-destination pairs that each carrier has, find the median distance after removing duplicates)."
   ]
  },
  {
   "cell_type": "code",
   "execution_count": 8,
   "metadata": {},
   "outputs": [
    {
     "name": "stdout",
     "output_type": "stream",
     "text": [
      "Index(['PASSENGERS', 'FREIGHT', 'MAIL', 'DISTANCE', 'UNIQUE_CARRIER',\n",
      "       'AIRLINE_ID', 'UNIQUE_CARRIER_NAME', 'UNIQUE_CARRIER_ENTITY', 'REGION',\n",
      "       'CARRIER', 'CARRIER_NAME', 'CARRIER_GROUP', 'CARRIER_GROUP_NEW',\n",
      "       'ORIGIN_AIRPORT_ID', 'ORIGIN_AIRPORT_SEQ_ID', 'ORIGIN_CITY_MARKET_ID',\n",
      "       'ORIGIN', 'ORIGIN_CITY_NAME', 'ORIGIN_STATE_ABR', 'ORIGIN_STATE_FIPS',\n",
      "       'ORIGIN_STATE_NM', 'ORIGIN_COUNTRY', 'ORIGIN_COUNTRY_NAME',\n",
      "       'ORIGIN_WAC', 'DEST_AIRPORT_ID', 'DEST_AIRPORT_SEQ_ID',\n",
      "       'DEST_CITY_MARKET_ID', 'DEST', 'DEST_CITY_NAME', 'DEST_STATE_ABR',\n",
      "       'DEST_STATE_FIPS', 'DEST_STATE_NM', 'DEST_COUNTRY', 'DEST_COUNTRY_NAME',\n",
      "       'DEST_WAC', 'YEAR', 'QUARTER', 'MONTH', 'DISTANCE_GROUP', 'CLASS',\n",
      "       'DATA_SOURCE'],\n",
      "      dtype='object')\n"
     ]
    }
   ],
   "source": [
    "print(df.columns)"
   ]
  },
  {
   "cell_type": "code",
   "execution_count": 16,
   "metadata": {},
   "outputs": [
    {
     "name": "stdout",
     "output_type": "stream",
     "text": [
      "  UNIQUE_CARRIER_ENTITY  DISTANCE\n",
      "0                 9776A    8068.0\n",
      "1                 9729A    8020.0\n",
      "2                 9802A    7886.0\n",
      "3                 71172    7855.5\n",
      "4                 9733A    7798.0\n"
     ]
    }
   ],
   "source": [
    "import pandas as pd\n",
    "df = pd.read_csv(\"/workspaces/student-lecture-materials-kpetrosino12/4-week4/data/T100_MARKET_ALL_CARRIER.zip\")\n",
    "df_unique = df.drop_duplicates(subset=['UNIQUE_CARRIER_ENTITY', 'ORIGIN', 'DISTANCE', 'DEST'])\n",
    "carrier_median_distance = df_unique.groupby('UNIQUE_CARRIER_ENTITY')['DISTANCE'].median().nlargest(5).reset_index()\n",
    "print(carrier_median_distance)"
   ]
  },
  {
   "cell_type": "markdown",
   "metadata": {},
   "source": [
    "#### __Exercise 9:__ \n",
    "Find the total cargo transported (mail + freight) and mean distance traveled for the 10 carriers that transported the most cargo."
   ]
  },
  {
   "cell_type": "code",
   "execution_count": null,
   "metadata": {},
   "outputs": [
    {
     "data": {
      "text/html": [
       "<div>\n",
       "<style scoped>\n",
       "    .dataframe tbody tr th:only-of-type {\n",
       "        vertical-align: middle;\n",
       "    }\n",
       "\n",
       "    .dataframe tbody tr th {\n",
       "        vertical-align: top;\n",
       "    }\n",
       "\n",
       "    .dataframe thead th {\n",
       "        text-align: right;\n",
       "    }\n",
       "</style>\n",
       "<table border=\"1\" class=\"dataframe\">\n",
       "  <thead>\n",
       "    <tr style=\"text-align: right;\">\n",
       "      <th></th>\n",
       "      <th>TOTAL_CARGO</th>\n",
       "      <th>DISTANCE</th>\n",
       "    </tr>\n",
       "    <tr>\n",
       "      <th>UNIQUE_CARRIER_NAME</th>\n",
       "      <th></th>\n",
       "      <th></th>\n",
       "    </tr>\n",
       "  </thead>\n",
       "  <tbody>\n",
       "    <tr>\n",
       "      <th>Federal Express Corporation</th>\n",
       "      <td>12,709,663,842.00</td>\n",
       "      <td>1,121.89</td>\n",
       "    </tr>\n",
       "    <tr>\n",
       "      <th>United Parcel Service</th>\n",
       "      <td>9,173,866,790.00</td>\n",
       "      <td>1,030.81</td>\n",
       "    </tr>\n",
       "    <tr>\n",
       "      <th>Atlas Air Inc.</th>\n",
       "      <td>3,356,847,309.00</td>\n",
       "      <td>1,900.99</td>\n",
       "    </tr>\n",
       "    <tr>\n",
       "      <th>United Air Lines Inc.</th>\n",
       "      <td>1,577,891,983.00</td>\n",
       "      <td>1,810.66</td>\n",
       "    </tr>\n",
       "    <tr>\n",
       "      <th>American Airlines Inc.</th>\n",
       "      <td>1,353,074,248.00</td>\n",
       "      <td>1,583.19</td>\n",
       "    </tr>\n",
       "    <tr>\n",
       "      <th>Kalitta Air LLC</th>\n",
       "      <td>1,272,180,283.00</td>\n",
       "      <td>2,519.58</td>\n",
       "    </tr>\n",
       "    <tr>\n",
       "      <th>Polar Air Cargo Airways</th>\n",
       "      <td>1,199,386,139.00</td>\n",
       "      <td>3,111.79</td>\n",
       "    </tr>\n",
       "    <tr>\n",
       "      <th>Delta Air Lines Inc.</th>\n",
       "      <td>1,129,523,987.00</td>\n",
       "      <td>1,612.69</td>\n",
       "    </tr>\n",
       "    <tr>\n",
       "      <th>China Airlines Ltd.</th>\n",
       "      <td>837,079,895.00</td>\n",
       "      <td>5,828.28</td>\n",
       "    </tr>\n",
       "    <tr>\n",
       "      <th>Cathay Pacific Airways Ltd.</th>\n",
       "      <td>774,177,697.00</td>\n",
       "      <td>7,498.69</td>\n",
       "    </tr>\n",
       "  </tbody>\n",
       "</table>\n",
       "</div>"
      ],
      "text/plain": [
       "                                  TOTAL_CARGO  DISTANCE\n",
       "UNIQUE_CARRIER_NAME                                    \n",
       "Federal Express Corporation 12,709,663,842.00  1,121.89\n",
       "United Parcel Service        9,173,866,790.00  1,030.81\n",
       "Atlas Air Inc.               3,356,847,309.00  1,900.99\n",
       "United Air Lines Inc.        1,577,891,983.00  1,810.66\n",
       "American Airlines Inc.       1,353,074,248.00  1,583.19\n",
       "Kalitta Air LLC              1,272,180,283.00  2,519.58\n",
       "Polar Air Cargo Airways      1,199,386,139.00  3,111.79\n",
       "Delta Air Lines Inc.         1,129,523,987.00  1,612.69\n",
       "China Airlines Ltd.            837,079,895.00  5,828.28\n",
       "Cathay Pacific Airways Ltd.    774,177,697.00  7,498.69"
      ]
     },
     "execution_count": 24,
     "metadata": {},
     "output_type": "execute_result"
    }
   ],
   "source": [
    "df.assign(TOTAL_CARGO=lambda x: x.MAIL + x.FREIGHT)\\\n",
    "    .groupby(\"UNIQUE_CARRIER_NAME\")[['TOTAL_CARGO', 'DISTANCE']]\\\n",
    "    .agg(dict(TOTAL_CARGO='sum', DISTANCE='mean')).nlargest(10,'TOTAL_CARGO')"
   ]
  },
  {
   "cell_type": "markdown",
   "metadata": {},
   "source": [
    "#### __Exercise 10__:\n",
    "\n",
    "Which 10 carriers flew the most passengers out of the United States to another country?"
   ]
  },
  {
   "cell_type": "code",
   "execution_count": 31,
   "metadata": {},
   "outputs": [
    {
     "name": "stdout",
     "output_type": "stream",
     "text": [
      "UNIQUE_CARRIER_NAME\n",
      "American Airlines Inc.      14,867,653.00\n",
      "United Air Lines Inc.       14,427,923.00\n",
      "Delta Air Lines Inc.        13,054,230.00\n",
      "JetBlue Airways              4,522,492.00\n",
      "British Airways Plc          3,758,945.00\n",
      "Lufthansa German Airlines    3,123,611.00\n",
      "Westjet                      2,626,600.00\n",
      "Air Canada                   2,540,855.00\n",
      "Southwest Airlines Co.       2,146,960.00\n",
      "Virgin Atlantic Airways      2,074,735.00\n",
      "Name: PASSENGERS, dtype: float64\n"
     ]
    }
   ],
   "source": [
    "top_10_passengers = df\\\n",
    "    .query('ORIGIN_COUNTRY_NAME == \"United States\" and DEST_COUNTRY_NAME != \"United States\"')\\\n",
    "    .groupby(\"UNIQUE_CARRIER_NAME\")['PASSENGERS'].sum().nlargest(10)\n",
    "print(top_10_passengers)\n",
    "\n",
    "#international_flights = df[(df['ORIGIN_COUNTRY']== 'US') & (df['DEST_COUNTRY'] != 'US')]\n",
    "#top_10_carriers_passengers = international_flights.groupby('UNIQUE_CARRIER_NAME')['PASSENGERS'].sum().nlargest(10).reset_index()\n",
    "#print(top_10_carriers_passengers)"
   ]
  }
 ],
 "metadata": {
  "kernelspec": {
   "display_name": "Python 3",
   "language": "python",
   "name": "python3"
  },
  "language_info": {
   "codemirror_mode": {
    "name": "ipython",
    "version": 3
   },
   "file_extension": ".py",
   "mimetype": "text/x-python",
   "name": "python",
   "nbconvert_exporter": "python",
   "pygments_lexer": "ipython3",
   "version": "3.12.1"
  }
 },
 "nbformat": 4,
 "nbformat_minor": 2
}
